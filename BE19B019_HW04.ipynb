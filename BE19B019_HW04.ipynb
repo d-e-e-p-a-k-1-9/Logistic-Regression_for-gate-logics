{
 "cells": [
  {
   "cell_type": "code",
   "execution_count": 1,
   "id": "39ce6293",
   "metadata": {},
   "outputs": [],
   "source": [
    "import numpy as np\n",
    "import pandas as pd\n",
    "from sklearn.model_selection import train_test_split\n",
    "from sklearn import metrics\n",
    "from sklearn.metrics import accuracy_score"
   ]
  },
  {
   "cell_type": "code",
   "execution_count": 2,
   "id": "eb81c28b",
   "metadata": {},
   "outputs": [],
   "source": [
    "def sigmoid(z):\n",
    "    return 1/(1 + np.exp(-z))"
   ]
  },
  {
   "cell_type": "code",
   "execution_count": 3,
   "id": "a25584f9",
   "metadata": {},
   "outputs": [],
   "source": [
    "from sklearn.datasets import make_classification\n",
    "def dataset_loader():\n",
    "    X, y = make_classification(n_features=2, n_redundant=0, \n",
    "                           n_informative=2, random_state=1, \n",
    "                           n_clusters_per_class=1)\n",
    "    x_new = pd.DataFrame(X, columns = ['feature1', 'feature2'])\n",
    "    y_new = pd.Series(y)\n",
    "    return x_new,y_new\n",
    "x,y = dataset_loader()\n",
    "\n",
    "x_train, x_test,  y_train, y_test = train_test_split(x, y, test_size = 0.3)"
   ]
  },
  {
   "cell_type": "code",
   "execution_count": 4,
   "id": "3ede9f88",
   "metadata": {},
   "outputs": [],
   "source": [
    "def gradient(x,y,pred):\n",
    "    m = x.shape[0]\n",
    "    dw = 1/m*(np.dot(x.T,(pred-y)))\n",
    "    db = 1/m*(np.sum(pred-y))\n",
    "    \n",
    "    return dw, db"
   ]
  },
  {
   "cell_type": "code",
   "execution_count": 5,
   "id": "5d2e0d22",
   "metadata": {},
   "outputs": [],
   "source": [
    "def loss(y, pred):\n",
    "    loss = -np.mean(y*(np.log(pred)) - (1-y)*np.log(1-pred))\n",
    "    return loss"
   ]
  },
  {
   "cell_type": "code",
   "execution_count": 6,
   "id": "e6583bf0",
   "metadata": {},
   "outputs": [],
   "source": [
    "def logistic_regression(x,y, max_iter, alpha):\n",
    "    \n",
    "    m = x.shape[0]\n",
    "    n = x.shape[1]\n",
    "    \n",
    "    #Initialize weights\n",
    "    weights = np.zeros(n)\n",
    "    b = 0\n",
    "    loss_ar = []\n",
    "    \n",
    "    #Gradient descent\n",
    "    for i in range(max_iter):\n",
    "        z = np.dot(x, weights.T) + b\n",
    "        pred = sigmoid(z)\n",
    "        dw, db = gradient(x,y,pred)   \n",
    "        weights = weights - alpha*dw\n",
    "        b = b - alpha*db\n",
    "        loss_ar.append(loss(y, z))\n",
    "        \n",
    "    return weights,b,loss_ar\n",
    "    \n",
    "    "
   ]
  },
  {
   "cell_type": "code",
   "execution_count": 7,
   "id": "10173b0b",
   "metadata": {},
   "outputs": [
    {
     "name": "stderr",
     "output_type": "stream",
     "text": [
      "C:\\Users\\laxma\\AppData\\Local\\Temp\\ipykernel_13496\\1389924015.py:2: RuntimeWarning: divide by zero encountered in log\n",
      "  loss = -np.mean(y*(np.log(pred)) - (1-y)*np.log(1-pred))\n",
      "C:\\Users\\laxma\\AppData\\Local\\Temp\\ipykernel_13496\\1389924015.py:2: RuntimeWarning: invalid value encountered in log\n",
      "  loss = -np.mean(y*(np.log(pred)) - (1-y)*np.log(1-pred))\n"
     ]
    },
    {
     "data": {
      "image/png": "[encoded data removed]",
      "text/plain": [
       "<Figure size 640x480 with 1 Axes>"
      ]
     },
     "metadata": {},
     "output_type": "display_data"
    },
    {
     "name": "stdout",
     "output_type": "stream",
     "text": [
      "[-0.45632752 -0.03363358]\n"
     ]
    }
   ],
   "source": [
    "import matplotlib.pyplot as plt\n",
    "a,b,c = logistic_regression(x_train,y_train,1000, 0.001)\n",
    "plt.plot(c)\n",
    "plt.show()\n",
    "print(a)"
   ]
  },
  {
   "cell_type": "code",
   "execution_count": 8,
   "id": "8480cf00",
   "metadata": {},
   "outputs": [
    {
     "name": "stdout",
     "output_type": "stream",
     "text": [
      "15    0\n",
      "78    0\n",
      "61    0\n",
      "30    0\n",
      "18    0\n",
      "9     0\n",
      "25    0\n",
      "50    0\n",
      "55    0\n",
      "53    0\n",
      "77    0\n",
      "92    0\n",
      "64    0\n",
      "11    0\n",
      "2     0\n",
      "22    0\n",
      "95    0\n",
      "97    0\n",
      "14    0\n",
      "40    0\n",
      "69    0\n",
      "98    0\n",
      "82    0\n",
      "67    0\n",
      "83    0\n",
      "47    0\n",
      "21    0\n",
      "49    0\n",
      "71    0\n",
      "31    0\n",
      "dtype: int32\n"
     ]
    }
   ],
   "source": [
    "def predict(x,weights,b):\n",
    "    z = np.dot(x, weights.T) + b\n",
    "    pred = sigmoid(z)\n",
    "    preds = [1 if i > 0.5 else 0 for i in pred]\n",
    "    \n",
    "    return preds\n",
    "    \n",
    "\n",
    "ls = y_test-predict(x_test,a,b)\n",
    "predict(x_test,a,b)\n",
    "print(ls)"
   ]
  },
  {
   "cell_type": "code",
   "execution_count": 9,
   "id": "057dfce7",
   "metadata": {},
   "outputs": [
    {
     "name": "stdout",
     "output_type": "stream",
     "text": [
      "[8.66386029 8.66386029] -3.866779966647495\n"
     ]
    },
    {
     "name": "stderr",
     "output_type": "stream",
     "text": [
      "C:\\Users\\laxma\\AppData\\Local\\Temp\\ipykernel_13496\\1389924015.py:2: RuntimeWarning: divide by zero encountered in log\n",
      "  loss = -np.mean(y*(np.log(pred)) - (1-y)*np.log(1-pred))\n",
      "C:\\Users\\laxma\\AppData\\Local\\Temp\\ipykernel_13496\\1389924015.py:2: RuntimeWarning: invalid value encountered in multiply\n",
      "  loss = -np.mean(y*(np.log(pred)) - (1-y)*np.log(1-pred))\n",
      "C:\\Users\\laxma\\AppData\\Local\\Temp\\ipykernel_13496\\1389924015.py:2: RuntimeWarning: invalid value encountered in log\n",
      "  loss = -np.mean(y*(np.log(pred)) - (1-y)*np.log(1-pred))\n"
     ]
    },
    {
     "data": {
      "text/plain": [
       "[0, 1, 1, 1]"
      ]
     },
     "execution_count": 9,
     "metadata": {},
     "output_type": "execute_result"
    }
   ],
   "source": [
    "## OR gate replication\n",
    "\n",
    "X = np.array([[0, 0], [0, 1], [1, 0], [1, 1]])\n",
    "Y = np.array([0, 1, 1, 1])\n",
    "a,b,c = logistic_regression(X,Y,1000, 1)\n",
    "print(a,b)\n",
    "\n",
    "predict(X,a,b)\n"
   ]
  },
  {
   "cell_type": "code",
   "execution_count": 10,
   "id": "342c34eb",
   "metadata": {},
   "outputs": [
    {
     "name": "stdout",
     "output_type": "stream",
     "text": [
      "[7.41431138 7.41431138] -11.294073552477853\n"
     ]
    },
    {
     "name": "stderr",
     "output_type": "stream",
     "text": [
      "C:\\Users\\laxma\\AppData\\Local\\Temp\\ipykernel_13496\\1389924015.py:2: RuntimeWarning: divide by zero encountered in log\n",
      "  loss = -np.mean(y*(np.log(pred)) - (1-y)*np.log(1-pred))\n",
      "C:\\Users\\laxma\\AppData\\Local\\Temp\\ipykernel_13496\\1389924015.py:2: RuntimeWarning: invalid value encountered in multiply\n",
      "  loss = -np.mean(y*(np.log(pred)) - (1-y)*np.log(1-pred))\n",
      "C:\\Users\\laxma\\AppData\\Local\\Temp\\ipykernel_13496\\1389924015.py:2: RuntimeWarning: invalid value encountered in log\n",
      "  loss = -np.mean(y*(np.log(pred)) - (1-y)*np.log(1-pred))\n"
     ]
    },
    {
     "data": {
      "text/plain": [
       "[0, 0, 0, 1]"
      ]
     },
     "execution_count": 10,
     "metadata": {},
     "output_type": "execute_result"
    }
   ],
   "source": [
    "## AND gate replication\n",
    "\n",
    "X = np.array([[0, 0], [0, 1], [1, 0], [1, 1]])\n",
    "Y = np.array([0, 0, 0, 1])\n",
    "a,b,c = logistic_regression(X,Y,1000, 1)\n",
    "print(a,b)\n",
    "predict(X,a,b)\n"
   ]
  },
  {
   "cell_type": "code",
   "execution_count": 11,
   "id": "66baea62",
   "metadata": {},
   "outputs": [
    {
     "name": "stdout",
     "output_type": "stream",
     "text": [
      "[0. 0.] 0.0\n"
     ]
    },
    {
     "name": "stderr",
     "output_type": "stream",
     "text": [
      "C:\\Users\\laxma\\AppData\\Local\\Temp\\ipykernel_13496\\1389924015.py:2: RuntimeWarning: divide by zero encountered in log\n",
      "  loss = -np.mean(y*(np.log(pred)) - (1-y)*np.log(1-pred))\n",
      "C:\\Users\\laxma\\AppData\\Local\\Temp\\ipykernel_13496\\1389924015.py:2: RuntimeWarning: invalid value encountered in multiply\n",
      "  loss = -np.mean(y*(np.log(pred)) - (1-y)*np.log(1-pred))\n"
     ]
    },
    {
     "data": {
      "text/plain": [
       "[0, 0, 0, 0]"
      ]
     },
     "execution_count": 11,
     "metadata": {},
     "output_type": "execute_result"
    }
   ],
   "source": [
    "## XOR gate replication\n",
    "\n",
    "X = np.array([[0, 0], [0, 1], [1, 0], [1, 1]])\n",
    "Y = np.array([0, 1, 1, 0])\n",
    "a,b,c = logistic_regression(X,Y,1000, 1)\n",
    "print(a,b)\n",
    "predict(X,a,b)\n"
   ]
  },
  {
   "cell_type": "markdown",
   "id": "558f217f",
   "metadata": {},
   "source": [
    "## Oservations on the weights obtained"
   ]
  },
  {
   "cell_type": "markdown",
   "id": "17b5ae55",
   "metadata": {},
   "source": [
    "we can observe that the weights of the model equation has changed for the three cases, OR, AND and XOR. It is also observed that both the weights are equal in all the three cases respectively. \n",
    "\n",
    "The predictions for both OR and AND gates have been shown to match with the true value because these data points are linearly separable. With a proper training, we were able to achieve at a proper weight and bias for both the cases.\n",
    "\n",
    "In the case of XOR gate, since the data points are linearly inseparable the model was not able to differentiate between the classes. This has been implied by the 0 weights and a 0 bias. "
   ]
  },
  {
   "cell_type": "code",
   "execution_count": 12,
   "id": "02d1b772",
   "metadata": {},
   "outputs": [],
   "source": [
    "df = pd.read_csv(r'C:\\Users\\laxma\\Downloads\\iris.data')\n",
    "df.columns = ['f1','f2','f3','f4','class'] \n",
    "\n",
    "df['class'] = df['class'].replace(['Iris-setosa'], int(0))\n",
    "df['class'] = df['class'].replace(['Iris-versicolor'], int(1))\n",
    "df['class'] = df['class'].replace(['Iris-virginica'], int(2))\n",
    "\n",
    "x = df.drop(df.columns[4], axis = 1)\n",
    "y = df[df.columns[4]]\n"
   ]
  },
  {
   "cell_type": "code",
   "execution_count": 13,
   "id": "adfa9ce1",
   "metadata": {},
   "outputs": [],
   "source": [
    "def softmax(z):\n",
    "    e_z = np.exp(z - np.max(z, axis=1, keepdims=True))\n",
    "    return e_z / np.sum(e_z, axis=1, keepdims=True)"
   ]
  },
  {
   "cell_type": "code",
   "execution_count": 14,
   "id": "7d93bb2b",
   "metadata": {},
   "outputs": [],
   "source": [
    "def gradient_descent_iris(x, y, alpha, max_iter):\n",
    "    \n",
    "    n_samples, n_features = x.shape\n",
    "    n_classes = len(np.unique(y))\n",
    "    \n",
    "    # Initialize weights matrix\n",
    "    weights = np.random.randn(n_features, n_classes)\n",
    "    \n",
    "    #Intialize onehot matrix\n",
    "    y_onehot = np.zeros((n_samples, n_classes))\n",
    "                        \n",
    "    for i in range(len(y)):\n",
    "        if y[i] == 0:\n",
    "            y_onehot[i] = [1,0,0]\n",
    "        elif y[i] == 1:\n",
    "            y_onehot[i] = [0,1,0]\n",
    "        else:\n",
    "            y_onehot[i] = [0,0,1]   \n",
    "                        \n",
    "    # Gradient descent\n",
    "    for i in range(max_iter):\n",
    "        \n",
    "        z = np.dot(x, weights)\n",
    "        probabilities = softmax(z)\n",
    "        error = probabilities - y_onehot \n",
    "        gradients = np.dot(x.T, error)\n",
    "        weights -= (1/n_samples)*alpha * gradients\n",
    "    \n",
    "    return weights"
   ]
  },
  {
   "cell_type": "code",
   "execution_count": 15,
   "id": "98217520",
   "metadata": {},
   "outputs": [],
   "source": [
    "weights= gradient_descent_iris(x,y,0.01, 1000)"
   ]
  },
  {
   "cell_type": "code",
   "execution_count": 16,
   "id": "fd5cf35d",
   "metadata": {},
   "outputs": [
    {
     "name": "stdout",
     "output_type": "stream",
     "text": [
      "[0 0 0 0 0 0 0 0 0 0 0 0 0 0 0 0 0 0 0 0 0 0 0 0 0 0 0 0 0 0 0 0 0 0 0 0 0\n",
      " 0 0 0 0 0 0 0 0 0 0 0 0 1 1 1 1 1 2 1 1 1 1 1 1 1 2 1 1 2 1 1 1 2 1 2 2 1\n",
      " 1 1 1 1 1 1 1 1 2 2 1 1 1 1 1 2 1 1 1 1 1 1 1 1 1 2 2 2 2 2 2 2 2 2 2 2 2\n",
      " 2 2 2 2 2 2 2 2 2 2 2 2 2 2 2 2 2 2 2 2 2 2 2 2 2 2 2 2 2 1 2 2 2 2 2 2 2\n",
      " 2]\n"
     ]
    }
   ],
   "source": [
    "probabilities = softmax(np.dot(x, weights))\n",
    "\n",
    "y_pred = np.argmax(probabilities, axis=1)\n",
    "print(y_pred)"
   ]
  },
  {
   "cell_type": "code",
   "execution_count": 17,
   "id": "20be11b4",
   "metadata": {},
   "outputs": [
    {
     "name": "stdout",
     "output_type": "stream",
     "text": [
      "[[49  0  0]\n",
      " [ 0 41  9]\n",
      " [ 0  1 49]]\n",
      "0.9328859060402684\n"
     ]
    }
   ],
   "source": [
    "confusion_matrix = metrics.confusion_matrix(y, y_pred)\n",
    "\n",
    "print(confusion_matrix)\n",
    "print(accuracy_score(y, y_pred))"
   ]
  },
  {
   "cell_type": "markdown",
   "id": "5f7d512b",
   "metadata": {},
   "source": [
    "## Observations for multiclass classification"
   ]
  },
  {
   "cell_type": "markdown",
   "id": "e511d41a",
   "metadata": {},
   "source": [
    "We have used the softmax activation function to convert the feature vectors into probability distributions which can be further used to compute the weights of the model equation. \n",
    "\n",
    "We have also used the onehot operation to convert the classes  = ['Iris-setosa', 'Iris-versicolor', 'Iris-virginica'] into binary formats given by:\n",
    "\n",
    "1. Iris-setosa = [1,0,0]\n",
    "\n",
    "2. Iris-versicolor = [0,1,0]\n",
    "\n",
    "3. Iris-virginica = [0,0,1]\n",
    "\n",
    "By following the gradient descent approach, and finding the proper gradients we can calculate the weights of the model which predicts the classes properly.\n",
    "\n",
    "The confusion matrix thus obtained shows the level of correct prediction made by the model. All 49 of the class Iris-setosa has been properly classified. 43 out of 50 of the class Iris-versicolor has been properly classified whereas the rest 7 has been falsely classified as the class Iris-virginica. The other 50 of class Iris-virginica has been coreclty classified.\n",
    "\n",
    "The accuracy of the classification was found to be 0.9530201342281879..\n"
   ]
  }
 ],
 "metadata": {
  "kernelspec": {
   "display_name": "Python 3 (ipykernel)",
   "language": "python",
   "name": "python3"
  },
  "language_info": {
   "codemirror_mode": {
    "name": "ipython",
    "version": 3
   },
   "file_extension": ".py",
   "mimetype": "text/x-python",
   "name": "python",
   "nbconvert_exporter": "python",
   "pygments_lexer": "ipython3",
   "version": "3.9.13"
  }
 },
 "nbformat": 4,
 "nbformat_minor": 5
}
